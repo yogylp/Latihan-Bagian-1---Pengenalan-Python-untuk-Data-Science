{
 "cells": [
  {
   "cell_type": "code",
   "execution_count": 1,
   "metadata": {},
   "outputs": [
    {
     "name": "stdout",
     "output_type": "stream",
     "text": [
      "1.1428571428571428\n"
     ]
    }
   ],
   "source": [
    "#No 1\n",
    "# ini adalah pembagian \n",
    "print (8/7)"
   ]
  },
  {
   "cell_type": "code",
   "execution_count": 39,
   "metadata": {},
   "outputs": [
    {
     "name": "stdout",
     "output_type": "stream",
     "text": [
      "10000.0\n",
      "170000\n",
      "Jadi uang selama 7 tahun menjadi 170000 . Total Bunga pertahun  10000\n"
     ]
    }
   ],
   "source": [
    "#No 2\n",
    "print (100000 * 0.1  )\n",
    "print (10000 * 7 + 100000)\n",
    "a= 10000 * 7 + 100000\n",
    "b= 100000 * 10//100 \n",
    "print (\"Jadi uang selama 7 tahun menjadi\", a, \".\" , \"Total Bunga pertahun \", b)"
   ]
  },
  {
   "cell_type": "code",
   "execution_count": 34,
   "metadata": {},
   "outputs": [
    {
     "name": "stdout",
     "output_type": "stream",
     "text": [
      "Isi variabel simpanan :  100000\n"
     ]
    }
   ],
   "source": [
    "#No 3\n",
    "simpanan = 100000\n",
    "print (\"Isi variabel simpanan : \", simpanan)"
   ]
  },
  {
   "cell_type": "code",
   "execution_count": 37,
   "metadata": {},
   "outputs": [
    {
     "name": "stdout",
     "output_type": "stream",
     "text": [
      "1100000.0000000002\n"
     ]
    }
   ],
   "source": [
    "#No 4\n",
    "faktor = 1.10\n",
    "hasil = simpanan * faktor * 10\n",
    "print (hasil)"
   ]
  },
  {
   "cell_type": "code",
   "execution_count": 38,
   "metadata": {},
   "outputs": [
    {
     "name": "stdout",
     "output_type": "stream",
     "text": [
      "<class 'float'>\n",
      "Sains DataSains Data\n"
     ]
    }
   ],
   "source": [
    "#No 5\n",
    "hasil_1 = faktor * simpanan\n",
    "print(type(hasil_1))\n",
    "desc = \"Sains Data\"\n",
    "dobel_desc = desc + desc\n",
    "print (dobel_desc)"
   ]
  },
  {
   "cell_type": "code",
   "execution_count": 44,
   "metadata": {},
   "outputs": [
    {
     "name": "stdout",
     "output_type": "stream",
     "text": [
      "Uang saya awalnya 100000 dan saya sekarang punya 194871.7100000001. Kueren cak\n"
     ]
    }
   ],
   "source": [
    "#No 6\n",
    "# Simpanan dan hasil\n",
    "simpanan_x = 100000\n",
    "hasil_x = 100000 * 1.10 ** 7\n",
    "\n",
    "# Fix the printout\n",
    "print(\"Uang saya awalnya \" + str(simpanan_x) + \" dan saya sekarang punya \" + str(hasil_x) + \". Kueren cak\")\n"
   ]
  },
  {
   "cell_type": "code",
   "execution_count": 47,
   "metadata": {},
   "outputs": [
    {
     "name": "stdout",
     "output_type": "stream",
     "text": [
      "3.1415926\n"
     ]
    }
   ],
   "source": [
    "\n",
    "# Selesaikan juga ini\n",
    "pi_string = \"3.1415926\"\n",
    "\n",
    "# Konversi pi_string menjadi float simpan dalam variabel pi_float dan kemudian print\n",
    "pi_float = float(pi_string)\n",
    "print (pi_float)"
   ]
  },
  {
   "cell_type": "code",
   "execution_count": null,
   "metadata": {},
   "outputs": [],
   "source": []
  }
 ],
 "metadata": {
  "kernelspec": {
   "display_name": "Python 3",
   "language": "python",
   "name": "python3"
  },
  "language_info": {
   "codemirror_mode": {
    "name": "ipython",
    "version": 3
   },
   "file_extension": ".py",
   "mimetype": "text/x-python",
   "name": "python",
   "nbconvert_exporter": "python",
   "pygments_lexer": "ipython3",
   "version": "3.7.6"
  }
 },
 "nbformat": 4,
 "nbformat_minor": 4
}
